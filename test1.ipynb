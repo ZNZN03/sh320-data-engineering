{
 "cells": [
  {
   "cell_type": "code",
   "execution_count": 8,
   "metadata": {},
   "outputs": [
    {
     "name": "stdout",
     "output_type": "stream",
     "text": [
      "Customer One Items:\n",
      "Lovely Loveseat. Tufted polyester blend on wood. 32 inches high x 40 inches wide x 30 inches deep. Red or white.Luxurious Lamp. Glass and iron. 36 inches tall. Brown with cream shade.\n",
      "Customer One Total:\n",
      "333.09119999999996\n"
     ]
    }
   ],
   "source": [
    "loveseat_d= \"Lovely Loveseat. Tufted polyester blend on wood. 32 inches high x 40 inches wide x 30 inches deep. Red or white.\"\n",
    "loveseat_p = 254.00\n",
    "\n",
    "stylish_settee_d = \"Stylish Settee. Faux leather on birch. 29.50 inches high x 54.75 inches wide x 28 inches deep. Black.\"\n",
    "stylish_settee_p = 180.50\n",
    "\n",
    "luxurious_lamp_d = \"Luxurious Lamp. Glass and iron. 36 inches tall. Brown with cream shade.\"\n",
    "luxurious_lamp_p = 52.15\n",
    "\n",
    "\n",
    "sales_tax = 0.088\n",
    "\n",
    "\n",
    "customer_one_total = 0\n",
    "customer_one_itemization = \"\"\n",
    "\n",
    "\n",
    "customer_one_total +=loveseat_p\n",
    "customer_one_itemization +=loveseat_d\n",
    "\n",
    "\n",
    "customer_one_total += luxurious_lamp_p\n",
    "customer_one_itemization += luxurious_lamp_d\n",
    "\n",
    "\n",
    "customer_one_tax = customer_one_total * sales_tax\n",
    "customer_one_total += customer_one_tax\n",
    "\n",
    "print(\"Customer One Items:\")\n",
    "print(customer_one_itemization)\n",
    "print(\"Customer One Total:\")\n",
    "print(customer_one_total)\n",
    "\n",
    "\n"
   ]
  },
  {
   "cell_type": "code",
   "execution_count": 9,
   "metadata": {},
   "outputs": [
    {
     "name": "stdout",
     "output_type": "stream",
     "text": [
      "Initial gradelist:\n",
      "[['physics', 98], ['calculus', 97], ['poetry', 85], ['history', 88]]\n",
      "\n",
      "After add two subjects:\n",
      "[['physics', 98], ['calculus', 97], ['poetry', 85], ['history', 88], ['computer science', 100], ['visual arts', 93]]\n",
      "\n",
      "After modifying visual arts and poetry:\n",
      "[['physics', 98], ['calculus', 97], ['poetry', 'Pass'], ['history', 88], ['computer science', 100], ['visual arts', 98]]\n",
      "\n",
      "Full Gradelist:\n",
      "[['politics', 80], ['latin', 96], ['dance', 97], ['architecture', 65], ['physics', 98], ['calculus', 97], ['poetry', 'Pass'], ['history', 88], ['computer science', 100], ['visual arts', 98]]\n"
     ]
    }
   ],
   "source": [
    "\n",
    "subjects = [\"physics\", \"calculus\", \"poetry\", \"history\"]\n",
    "grades = [98, 97, 85, 88]\n",
    "\n",
    "gradelist = [\n",
    "    [subjects[0], grades[0]],\n",
    "    [subjects[1], grades[1]],\n",
    "    [subjects[2], grades[2]],\n",
    "    [subjects[3], grades[3]],\n",
    "]\n",
    "\n",
    "print(\"Initial gradelist:\")\n",
    "print(gradelist)\n",
    "\n",
    "gradelist.append([\"computer science\", 100])\n",
    "gradelist.append([\"visual arts\", 93])\n",
    "\n",
    "print(\"\\nAfter add two subjects:\")\n",
    "print(gradelist)\n",
    "\n",
    "gradelist[-1][1] += 5\n",
    "\n",
    "for course in gradelist:\n",
    "    if course[0] == \"poetry\":\n",
    "        course.remove(85) \n",
    "        course.append(\"Pass\") \n",
    "\n",
    "print(\"\\nAfter modifying visual arts and poetry:\")\n",
    "print(gradelist)\n",
    "\n",
    "last_gradelist = [\n",
    "    [\"politics\", 80],\n",
    "    [\"latin\", 96],\n",
    "    [\"dance\", 97],\n",
    "    [\"architecture\", 65]\n",
    "]\n",
    "\n",
    "full_gradelist = last_gradelist + gradelist\n",
    "\n",
    "print(\"\\nFull Gradelist:\")\n",
    "print(full_gradelist)\n"
   ]
  },
  {
   "cell_type": "code",
   "execution_count": 10,
   "metadata": {},
   "outputs": [
    {
     "name": "stdout",
     "output_type": "stream",
     "text": [
      "['bouffant', 'pixie', 'crew', 'bowl']\n"
     ]
    }
   ],
   "source": [
    "hairstyles = [\"bouffant\", \"pixie\", \"dreadlocks\", \"crew\", \"bowl\", \"bob\", \"mohawk\", \"flattop\"]\n",
    "prices = [30, 25, 40, 20, 20, 35, 50, 35]\n",
    "last_week = [2, 3, 5, 8, 4, 4, 6, 2]\n",
    "\n",
    "total = 0\n",
    "for price in prices:\n",
    "    total += price\n",
    "average = total / len(prices)\n",
    "\n",
    "new_prices = [price - 5 for price in prices]\n",
    "\n",
    "revenue = 0 \n",
    "for i in range(len(hairstyles)):\n",
    "    revenue += prices[i] * last_week[i]\n",
    "\n",
    "average_daily_revenue = revenue / 7\n",
    "\n",
    "cuts_under_30 = [hairstyles[i] for i in range(len(new_prices)) if new_prices[i] < 30]\n",
    "\n",
    "print(cuts_under_30)\n"
   ]
  },
  {
   "cell_type": "code",
   "execution_count": 14,
   "metadata": {},
   "outputs": [],
   "source": [
    "def my_name():\n",
    "    first_name = input(\"성을 입력하세요: \")\n",
    "    month = int(input(\"태어난 달을 입력하세요: \"))\n",
    "    day = int(input(\"태어난 날짜을 입력하세요: \"))\n",
    "\n",
    "    middle_name = ['쌍', '쇠', '복', '돌', '팽', '육', '쌍', '개', '칠', '갑', '삼', '방']\n",
    "    last_name = ['봉', '구', '욕', '포', '똥', '삼', '식', '석', '놈', '님',\n",
    "                '년', '돌', '단', '득', '방', '질', '장', '걸', '래', '룡',\n",
    "                '동', '순', '자', '박', '창', '언', '것', '포', '만', '단', '국']\n",
    "\n",
    "    total_name = first_name + middle_name[month - 1] + last_name[day - 1]\n",
    "\n",
    "    print(f\"당신의 조선시대 이름은 {total_name} 입니다.\")\n"
   ]
  }
 ],
 "metadata": {
  "kernelspec": {
   "display_name": "base",
   "language": "python",
   "name": "python3"
  },
  "language_info": {
   "codemirror_mode": {
    "name": "ipython",
    "version": 3
   },
   "file_extension": ".py",
   "mimetype": "text/x-python",
   "name": "python",
   "nbconvert_exporter": "python",
   "pygments_lexer": "ipython3",
   "version": "3.12.4"
  }
 },
 "nbformat": 4,
 "nbformat_minor": 2
}
